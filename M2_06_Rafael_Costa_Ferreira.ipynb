{
 "cells": [
  {
   "cell_type": "markdown",
   "metadata": {},
   "source": [
    "# Exercícios Módulo 2. Funções (Soluções)\n",
    "\n",
    "Considerações a ter em conta:\n",
    "\n",
    "* Guardar este documento com o seguinte formato para entrega: M2_06_nome_apelido1_apelido2\n",
    "* Fazer os exercícios com as ferramentas vistas nas sessões. \n",
    "* Comentar o código\n",
    "* Utilizar nomes de variáveis apropriados, se vai guardar uma nota, chamar a essa variável nota, não n ou x"
   ]
  },
  {
   "cell_type": "markdown",
   "metadata": {},
   "source": [
    "**1) Fazer uma função que devolva a área de um retângulo a partir da sua base e altura.\n",
    "A função chama-se area_retangulo(). Os valores da base e a altura pedem-se ao utilizador.**\n",
    "\n",
    "*Nota: a área de um retângulo obtém-se ao multiplicar a base pela altura.*"
   ]
  },
  {
   "cell_type": "code",
   "execution_count": 1,
   "metadata": {},
   "outputs": [],
   "source": [
    "#Digitar um exemplo de base e altura do retângulo\n",
    "def area_retangulo():\n",
    "    base = float(input(\"Digite a base do retângulo: \"))\n",
    "    altura = float(input(\"Digite a altura do retângulo: \"))\n",
    "    area = base * altura\n",
    "    return area\n",
    "\n",
    "area = area_retangulo()\n",
    "print(\"A área do retângulo é:\", area)"
   ]
  },
  {
   "cell_type": "markdown",
   "metadata": {},
   "source": [
    "**2) Fazer uma função que devolva a área de um círculo a partir de um raio.\n",
    "A função chama-se area_circulo(). O valor do raio pede-se ao utilizador:**\n",
    "\n",
    "Nota: a área de um círculo obtém-se ao elevar o raio ao quadrado e multiplicando o resultado pelo número pi. Pode utilizar o valor 3,14159 como pi ou importá-lo do módulo math:\n",
    "```python\n",
    "import math\n",
    "print(math.pi)\n",
    "> 3.1415...\n",
    "```"
   ]
  },
  {
   "cell_type": "code",
   "execution_count": 2,
   "metadata": {},
   "outputs": [],
   "source": [
    "import math\n",
    "\n",
    "#Digitar um exemplo de raio de um círculo\n",
    "\n",
    "def area_circulo():\n",
    "    raio = float(input(\"Digite o raio do círculo: \"))\n",
    "    area = math.pi * raio ** 2\n",
    "    return area\n",
    "\n",
    "area = area_circulo()\n",
    "print(\"A área do círculo é:\", area)"
   ]
  },
  {
   "cell_type": "markdown",
   "metadata": {},
   "source": [
    "**3)  Fazer uma função que a partir de dois números, que se solicitam por teclado ao utilizador e que se vai chamar relacao(), e cumpra as seguintes condições:**\n",
    "\n",
    "* Se o primeiro número é maior que o segundo, deve devolver 1\n",
    "* Se o primeiro número é menor que o segundo, deve devolver -1\n",
    "* Se ambos números são iguais, deve devolver um 0\n",
    "\n",
    "**Testar a relação entre os números com: '5 e 10', '10 e 5' e '5 e 5'**"
   ]
  },
  {
   "cell_type": "code",
   "execution_count": 3,
   "metadata": {},
   "outputs": [],
   "source": [
    "#Definir as condições \n",
    "def relacao(a, b):\n",
    "    if a > b:\n",
    "        return 1\n",
    "    elif a < b:\n",
    "        return -1\n",
    "    else:\n",
    "        return 0\n",
    "\n",
    "# Testar a relação entre números\n",
    "print(relacao(5, 10))\n",
    "print(relacao(10, 5))\n",
    "print(relacao(5, 5))"
   ]
  },
  {
   "cell_type": "markdown",
   "metadata": {},
   "source": [
    "**4) Fazer uma função chamada ler_numero() que solicite e imprima um número do utilizador.  Utiliza esta função (ler_numeros) para pedir ao utilizador 3 números e guardamos estes 3 valores.\n",
    "De seguida, passe estes 3 números como argumento de uma nova função que se chame maior(a,b,c), que deve devolver o maior número:**"
   ]
  },
  {
   "cell_type": "code",
   "execution_count": 4,
   "metadata": {},
   "outputs": [],
   "source": [
    "#Digitar um número no teclado\n",
    "def ler_numero():\n",
    "    return float(input(\"Digite um número: \"))\n",
    "\n",
    "def maior(a, b, c):\n",
    "    return max(a, b, c)\n",
    "\n",
    "# Ler 3 números e encontrar o maior\n",
    "num1 = ler_numero()\n",
    "num2 = ler_numero()\n",
    "num3 = ler_numero()\n",
    "resultado = maior(num1, num2, num3)\n",
    "print(\"O maior número é:\", resultado)"
   ]
  },
  {
   "cell_type": "markdown",
   "metadata": {},
   "source": [
    "**5) Fazer uma função chamada imc(). Esta função proporciona-nos o estado nutricional de uma  pessoa. É a classificação do seu índice de massa corporal (IMC), segundo a definição:**\n",
    "* Baixo peso:  0 < 18.50\n",
    "* Normal:       entre (18.50, 25.00)\n",
    "* Sobrepeso:  entre (25.00, 30.00)\n",
    "* Obesidade:   ∞  > 30.00  \n",
    " A função irá receber o peso (em quilos) e o tamanho de uma pessoa (em metros com dois valores decimais) do utilizador, na qual se pode calcular o IMC da seguinte forma:\n",
    "\n",
    "*IMC = peso / (altura * altura)*\n",
    "*Classificação: IMC (Kg/m^2)*\n"
   ]
  },
  {
   "cell_type": "code",
   "execution_count": 5,
   "metadata": {},
   "outputs": [],
   "source": [
    "#Digitar o peso e a altura\n",
    "def imc():\n",
    "    peso = float(input(\"Digite o peso (em quilos): \"))\n",
    "    altura = float(input(\"Digite a altura (em metros com dois valores decimais): \"))\n",
    "\n",
    "    # Calcular o IMC\n",
    "    imc = peso / (altura * altura)\n",
    "\n",
    "    # Classificar o IMC\n",
    "    if imc < 18.5:\n",
    "        classificacao = \"Baixo peso\"\n",
    "    elif 18.5 <= imc < 25:\n",
    "        classificacao = \"Normal\"\n",
    "    elif 25 <= imc < 30:\n",
    "        classificacao = \"Sobrepeso\"\n",
    "    else:\n",
    "        classificacao = \"Obesidade\"\n",
    "\n",
    "    # Retornar a classificação\n",
    "    return classificacao\n",
    "\n",
    "resultado = imc()\n",
    "print(\"Classificação do IMC:\", resultado)"
   ]
  }
 ],
 "metadata": {
  "anaconda-cloud": {},
  "kernelspec": {
   "display_name": "Python 3 (ipykernel)",
   "language": "python",
   "name": "python3"
  },
  "language_info": {
   "codemirror_mode": {
    "name": "ipython",
    "version": 3
   },
   "file_extension": ".py",
   "mimetype": "text/x-python",
   "name": "python",
   "nbconvert_exporter": "python",
   "pygments_lexer": "ipython3",
   "version": "3.11.5"
  }
 },
 "nbformat": 4,
 "nbformat_minor": 1
}
